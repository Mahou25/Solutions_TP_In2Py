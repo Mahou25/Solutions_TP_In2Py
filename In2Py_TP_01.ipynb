{
  "cells": [
    {
      "cell_type": "markdown",
      "metadata": {
        "id": "view-in-github",
        "colab_type": "text"
      },
      "source": [
        "<a href=\"https://colab.research.google.com/github/Mahou25/Solutions_TP_In2Py/blob/main/In2Py_TP_01.ipynb\" target=\"_parent\"><img src=\"https://colab.research.google.com/assets/colab-badge.svg\" alt=\"Open In Colab\"/></a>"
      ]
    },
    {
      "cell_type": "markdown",
      "metadata": {
        "id": "22f02e1a"
      },
      "source": [
        "\n",
        "### <center> <b> <span style=\"color:blue;\"> Travaux Pratiques: Variables, Types & Opérations </span> </b></center>"
      ],
      "id": "22f02e1a"
    },
    {
      "cell_type": "markdown",
      "metadata": {
        "id": "ddc667e7"
      },
      "source": [
        "**Exercise 00:**  \n",
        ">\n",
        "\n",
        "  \n",
        "> 1. Déclarez une variable `prenom` et attribuez-lui une valeur.\n",
        "  > 2. Déclarez une variable `nom` et attribuez-lui une valeur.\n",
        "  > 3. Déclarez une variable `prenom_nom` et attribuez-lui une valeur.\n",
        "  > 4. Déclarez une variable `pays` et attribuez-lui une valeur.\n",
        "  > 5. Déclarez une variable `ville` et attribuez-lui une valeur.\n",
        "  > 6. Déclarez une variable `age` et attribuez-lui une valeur.\n",
        "  > 7. Déclarez une variable `annee` et attribuez-lui une valeur.\n",
        "  > 8. Déclarez une variable `est_marie` et attribuez-lui une valeur.\n",
        "  > 9. Déclarez une variable `est_vrai` et attribuez-lui une valeur.\n",
        "\n",
        "> Pour chacune des variables ci-dessus, affichez la valeur qu'elle contient à l'aide de la fonction `print()`.\n",
        "\n"
      ],
      "id": "ddc667e7"
    },
    {
      "cell_type": "code",
      "execution_count": null,
      "metadata": {
        "id": "ebd3951d"
      },
      "outputs": [],
      "source": [
        "prenom = \"Paule\"\n",
        "nom = \"YANCLO\"\n",
        "prenom_nom = \"YANCLO Paule\"\n",
        "pays = \"Benin\"\n",
        "ville = \"Dangbo\"\n",
        "age = 18\n",
        "annee = 2022\n",
        "est_marie = False\n",
        "est_vrai = True\n"
      ],
      "id": "ebd3951d"
    },
    {
      "cell_type": "markdown",
      "metadata": {
        "id": "85eb4f96"
      },
      "source": [
        "**Exercise 01:** \n",
        "> Vérifiez le type de données de toutes vos variables à l'aide de la fonction intégrée `type()`.**\n"
      ],
      "id": "85eb4f96"
    },
    {
      "cell_type": "code",
      "execution_count": null,
      "metadata": {
        "id": "c5c47124",
        "outputId": "9e567168-2eee-4ce9-96ac-6bdc2dca2f2d",
        "colab": {
          "base_uri": "https://localhost:8080/"
        }
      },
      "outputs": [
        {
          "output_type": "stream",
          "name": "stdout",
          "text": [
            "<class 'str'>\n",
            "<class 'str'>\n",
            "<class 'str'>\n",
            "<class 'str'>\n",
            "<class 'int'>\n",
            "<class 'int'>\n",
            "<class 'bool'>\n",
            "<class 'bool'>\n"
          ]
        }
      ],
      "source": [
        "prenom = \"Paule\"\n",
        "nom = \"YANCLO\"\n",
        "prenom_nom = \"YANCLO Paule\"\n",
        "pays = \"Benin\"\n",
        "ville = \"Dangbo\"\n",
        "age = 18\n",
        "annee = 2022\n",
        "est_marie = False\n",
        "est_vrai = True\n",
        "\n",
        "print(type(prenom)) \n",
        "print(type(nom)) \n",
        "print(type(prenom_nom)) \n",
        "print(type(ville)) \n",
        "print(type(age))\n",
        "print(type (annee))\n",
        "print(type(est_marie))\n",
        "print(type(est_vrai))\n"
      ],
      "id": "c5c47124"
    },
    {
      "cell_type": "markdown",
      "metadata": {
        "id": "76cdc19b"
      },
      "source": [
        "**Exercise 02:** \n",
        "> Calculez la valeur de $y$ ($y = x^2 + 6x + 9$). Essayez d'utiliser différentes valeurs de $x$ et déterminez à quelle valeur de $x$ $y$ sera égal à 0.**"
      ],
      "id": "76cdc19b"
    },
    {
      "cell_type": "code",
      "execution_count": null,
      "metadata": {
        "id": "fb4df11a",
        "outputId": "df94b6a0-75ff-443e-f38c-cf8b6b675d2e",
        "colab": {
          "base_uri": "https://localhost:8080/"
        }
      },
      "outputs": [
        {
          "output_type": "stream",
          "name": "stdout",
          "text": [
            "-7.16227766016838\n",
            "ou bien\n",
            "-0.8377223398316205\n"
          ]
        }
      ],
      "source": [
        "import math\n",
        "def resoudreequation(a,b,c):\n",
        "  D=pow(b,2)-(4*a*c)\n",
        "  if (D>0):\n",
        "    x =(-b-(math.sqrt(D)))/(2*a)\n",
        "    print(x)\n",
        "    print(\"ou bien\")\n",
        "    x=(-b+(math.sqrt(D)))/(2*a)\n",
        "    print(x)\n",
        "  elif (D==0):\n",
        "    x = -b/(2*a)\n",
        "    print(x)\n",
        "  elif (D<0):\n",
        "    print(\"x n'est pas reel\")  \n",
        "\n",
        "resoudreequation(1,8,6)    \n",
        "\n"
      ],
      "id": "fb4df11a"
    },
    {
      "cell_type": "markdown",
      "metadata": {
        "id": "8f40e3ab"
      },
      "source": [
        "**Exercise 03:** \n",
        ">    \n",
        "\n",
        "     1. Déclarez votre âge sous forme de variable entière\n",
        "     2. Déclarez votre taille en tant que variable flottante\n",
        "     3. Déclarez une variable qui stocke la base et la hauteur d'un triangle. Calculez l'aire de ce triangle (aire = 0,5 x b x h)."
      ],
      "id": "8f40e3ab"
    },
    {
      "cell_type": "code",
      "execution_count": null,
      "metadata": {
        "id": "rpAlhgG_9A5z"
      },
      "outputs": [],
      "source": [
        "age = 45\n",
        "taille = 25,4\n",
        "base = 90\n",
        "hauteur = 45\n",
        "aire = base * hauteur* 0,5"
      ],
      "id": "rpAlhgG_9A5z"
    },
    {
      "cell_type": "markdown",
      "metadata": {
        "id": "9957391d"
      },
      "source": [
        "## *Astuce : recevoir les entrées de l'utilisateur *\n",
        "**Pour recevoir une entrée de l'utilisateur, nous utilisons `input()`.**.\n",
        "\n",
        "**Exemple**\n",
        "Recevez deux nombres en entrée de l'utilisateur et calculez leur puissance :\n",
        "```python\n",
        "base = input(\"Entrez une base : \")\n",
        "exposant = input(\"Entrez un exposant : \")\n",
        "resultat = float(base) ** float(exposant)\n",
        "print(f \"{base} à la puissance {exposant} = {résultat}\")\n",
        "```"
      ],
      "id": "9957391d"
    },
    {
      "cell_type": "markdown",
      "metadata": {
        "id": "0fb34716"
      },
      "source": [
        "**Exercise 04:** \n",
        "> **Write a small code that asks the user to enter the side $a$, the side $b$ and the side $c$ of a triangle. Calculate the perimeter of the triangle (perimeter = a + b + c).**"
      ],
      "id": "0fb34716"
    },
    {
      "cell_type": "code",
      "execution_count": null,
      "metadata": {
        "id": "6618f067",
        "outputId": "cd7c80c3-e54e-44a5-e136-46562e6592b4",
        "colab": {
          "base_uri": "https://localhost:8080/"
        }
      },
      "outputs": [
        {
          "output_type": "stream",
          "name": "stdout",
          "text": [
            "le cote a5\n",
            "le cote b 4.2\n",
            "le cote c 3.5\n",
            "54.23.5\n"
          ]
        }
      ],
      "source": [
        "a = input(\"le cote a\" )\n",
        "b = input(\"le cote b \")\n",
        "c = input(\"le cote c \")\n",
        "perimeter = float(a)+float(b)+float(c)\n",
        "print(perimeter)\n"
      ],
      "id": "6618f067"
    },
    {
      "cell_type": "markdown",
      "metadata": {
        "id": "e482c15c"
      },
      "source": [
        "**Exercise 05:** \n",
        "> **Obtenez la longueur et la largeur d'un rectangle à l'aide de l'invite. Calculer sa `superficie` et son `perimetre`.**"
      ],
      "id": "e482c15c"
    },
    {
      "cell_type": "code",
      "execution_count": null,
      "metadata": {
        "id": "286cec4c"
      },
      "outputs": [],
      "source": [
        ""
      ],
      "id": "286cec4c"
    },
    {
      "cell_type": "markdown",
      "metadata": {
        "id": "cf15844c"
      },
      "source": [
        "**Exercice 06:** \n",
        "> **Obtenez le rayon d'un cercle en utilisant l'invite. Calculez l'aire (aire = pi x r x r) et la circonférence (c = 2 x pi x r) où pi = 3,14.**"
      ],
      "id": "cf15844c"
    },
    {
      "cell_type": "code",
      "execution_count": null,
      "metadata": {
        "id": "ee0ee85e"
      },
      "outputs": [],
      "source": [
        "\n"
      ],
      "id": "ee0ee85e"
    },
    {
      "cell_type": "markdown",
      "metadata": {
        "id": "d9dec37a"
      },
      "source": [
        "**Exercice 07:**\n",
        "> **Calculez la pente, l'ordonnée à l'origine en x et l'ordonnée à l'origine en $y$ de $y = 2x -2$.**"
      ],
      "id": "d9dec37a"
    },
    {
      "cell_type": "code",
      "execution_count": null,
      "metadata": {
        "id": "203e449c"
      },
      "outputs": [],
      "source": [
        ""
      ],
      "id": "203e449c"
    },
    {
      "cell_type": "markdown",
      "metadata": {
        "id": "2f74d685"
      },
      "source": [
        "**Exercice 08:** \n",
        "> **Rédigez un script qui demande à l'utilisateur d'entrer les heures et le taux horaire. Calculez la rémunération de la personne ?**"
      ],
      "id": "2f74d685"
    },
    {
      "cell_type": "code",
      "execution_count": null,
      "metadata": {
        "id": "7cff5a0a"
      },
      "outputs": [],
      "source": [
        ""
      ],
      "id": "7cff5a0a"
    },
    {
      "cell_type": "markdown",
      "metadata": {
        "id": "6ddd662c"
      },
      "source": [
        "**Exercice 09:** \n",
        "> **Écrivez un script qui demande à l'utilisateur d'entrer le nombre d'années. Calculez le nombre de secondes qu'une personne peut vivre. Supposons qu'une personne puisse vivre cent ans.**"
      ],
      "id": "6ddd662c"
    },
    {
      "cell_type": "code",
      "execution_count": null,
      "metadata": {
        "id": "44c2a63c"
      },
      "outputs": [],
      "source": [
        ""
      ],
      "id": "44c2a63c"
    },
    {
      "cell_type": "markdown",
      "metadata": {
        "id": "9b253387"
      },
      "source": [
        "**Exercice 10:** \n",
        "> **Écrivez un script Python qui affiche le tableau suivant**\n",
        "\n",
        "    1 1 1 1 1\n",
        "    \n",
        "    2 1 2 4 8\n",
        "    \n",
        "    3 1 3 9 27\n",
        "    \n",
        "    4 1 4 16 64\n",
        "    \n",
        "    5 1 5 25 125"
      ],
      "id": "9b253387"
    },
    {
      "cell_type": "code",
      "source": [
        ""
      ],
      "metadata": {
        "id": "aa2dae84"
      },
      "id": "aa2dae84",
      "execution_count": null,
      "outputs": []
    },
    {
      "cell_type": "markdown",
      "metadata": {
        "id": "953e7d8c"
      },
      "source": [
        "**Exercise 11:** \n",
        ">**Attribuez aux variables `temps` et `distance` les valeurs $6.892$ et $19.7$. Calculer et afficher la valeur de la vitesse. Améliorer l'affichage en imposant un chiffre après la virgule.**"
      ],
      "id": "953e7d8c"
    },
    {
      "cell_type": "code",
      "execution_count": null,
      "metadata": {
        "id": "6d787289"
      },
      "outputs": [],
      "source": [
        ""
      ],
      "id": "6d787289"
    },
    {
      "cell_type": "markdown",
      "metadata": {
        "id": "2d0f1ff9"
      },
      "source": [
        "**Exercice 12:** \n",
        "> **Écrire un programme qui, à partir de la saisie d’un rayon et d’une hauteur, calcule levolume d’un cône droit.**"
      ],
      "id": "2d0f1ff9"
    },
    {
      "cell_type": "code",
      "execution_count": null,
      "metadata": {
        "id": "969f5f68",
        "outputId": "c298218b-b870-4420-ae0f-14168da41963",
        "colab": {
          "base_uri": "https://localhost:8080/",
          "height": 254
        }
      },
      "outputs": [
        {
          "name": "stdout",
          "output_type": "stream",
          "text": [
            "entre le rayon4\n",
            "entre la hauteur5\n"
          ]
        },
        {
          "output_type": "error",
          "ename": "TypeError",
          "evalue": "ignored",
          "traceback": [
            "\u001b[0;31m---------------------------------------------------------------------------\u001b[0m",
            "\u001b[0;31mTypeError\u001b[0m                                 Traceback (most recent call last)",
            "\u001b[0;32m<ipython-input-48-04c2cfba3951>\u001b[0m in \u001b[0;36m<module>\u001b[0;34m()\u001b[0m\n\u001b[1;32m      5\u001b[0m \u001b[0mpi\u001b[0m \u001b[0;34m=\u001b[0m \u001b[0;36m3\u001b[0m\u001b[0;34m,\u001b[0m\u001b[0;36m14\u001b[0m\u001b[0;34m\u001b[0m\u001b[0;34m\u001b[0m\u001b[0m\n\u001b[1;32m      6\u001b[0m \u001b[0mB\u001b[0m\u001b[0;34m=\u001b[0m \u001b[0mpi\u001b[0m \u001b[0;34m*\u001b[0m \u001b[0mpow\u001b[0m\u001b[0;34m(\u001b[0m\u001b[0mrayon\u001b[0m\u001b[0;34m,\u001b[0m\u001b[0;36m2\u001b[0m\u001b[0;34m)\u001b[0m\u001b[0;34m\u001b[0m\u001b[0;34m\u001b[0m\u001b[0m\n\u001b[0;32m----> 7\u001b[0;31m \u001b[0maire\u001b[0m \u001b[0;34m=\u001b[0m \u001b[0;34m(\u001b[0m\u001b[0mB\u001b[0m\u001b[0;34m*\u001b[0m\u001b[0mhauteur\u001b[0m\u001b[0;34m)\u001b[0m\u001b[0;34m/\u001b[0m\u001b[0;36m3\u001b[0m\u001b[0;34m\u001b[0m\u001b[0;34m\u001b[0m\u001b[0m\n\u001b[0m\u001b[1;32m      8\u001b[0m \u001b[0mprint\u001b[0m\u001b[0;34m(\u001b[0m\u001b[0maire\u001b[0m\u001b[0;34m)\u001b[0m\u001b[0;34m\u001b[0m\u001b[0;34m\u001b[0m\u001b[0m\n",
            "\u001b[0;31mTypeError\u001b[0m: unsupported operand type(s) for /: 'tuple' and 'int'"
          ]
        }
      ],
      "source": [
        "r=input(\"entre le rayon\")\n",
        "h=input(\"entre la hauteur\")\n",
        "rayon =int(r)\n",
        "hauteur = int(h)\n",
        "pi = 3,14\n",
        "B= pi * pow(rayon,2)\n",
        "aire = (B*hauteur)/3\n",
        "print(aire)"
      ],
      "id": "969f5f68"
    },
    {
      "cell_type": "markdown",
      "metadata": {
        "id": "e9b3ce2a"
      },
      "source": [
        "**Exercise 13:** \n",
        "> **L'utilisateur donne un entier positif et le programme annonce combien de fois de suite cet entier est divisible par 2.**"
      ],
      "id": "e9b3ce2a"
    },
    {
      "cell_type": "code",
      "execution_count": null,
      "metadata": {
        "id": "5c8fea9a",
        "outputId": "363cff04-1cea-440d-d8cb-def986a3c092",
        "colab": {
          "base_uri": "https://localhost:8080/"
        }
      },
      "outputs": [
        {
          "output_type": "stream",
          "name": "stdout",
          "text": [
            "entrer un nombre entier 14\n",
            "le nombre de fois de suite cet entier est divisible par 2 est \n",
            "1\n"
          ]
        }
      ],
      "source": [
        "   entier = input(\"entrer un nombre entier \")\n",
        "   ent = int(entier)\n",
        "   i=0\n",
        "   if(ent%2==0):\n",
        "     print(\"le nombre de fois de suite cet entier est divisible par 2 est \")   \n",
        "     while(ent%2==0):\n",
        "       ent /= 2\n",
        "       i+=1\n",
        "     print(i)\n",
        "   else:\n",
        "      print(\"le nombre n'est pas un multiple de 2 \")\n",
        "\n",
        "   \n",
        "     "
      ],
      "id": "5c8fea9a"
    },
    {
      "cell_type": "markdown",
      "metadata": {
        "id": "0485aed6"
      },
      "source": [
        "**Exercise 14:** \n",
        ">**L'utilisateur donne un nombre entier entre 2 et 12, le programme donne le nombre de façons de le faire en lançant deux dés.**"
      ],
      "id": "0485aed6"
    },
    {
      "cell_type": "code",
      "execution_count": null,
      "metadata": {
        "id": "31f48a15"
      },
      "outputs": [],
      "source": [
        ""
      ],
      "id": "31f48a15"
    },
    {
      "cell_type": "markdown",
      "metadata": {
        "id": "cead0c8f"
      },
      "source": [
        "**Exercice 15:** \n",
        "> **Utilisez la fonction d'entrée intégrée `input()` pour obtenir le `_prénom_`, le `_nom_`, le `_pays_d_origine` et l'`_age_` d'un utilisateur et stockez la valeur dans les noms des variables correspondantes.**"
      ],
      "id": "cead0c8f"
    },
    {
      "cell_type": "code",
      "execution_count": null,
      "metadata": {
        "id": "0a2694a9",
        "outputId": "5bcb21b3-949a-436e-f470-5bb0c30df098",
        "colab": {
          "base_uri": "https://localhost:8080/"
        }
      },
      "outputs": [
        {
          "name": "stdout",
          "output_type": "stream",
          "text": [
            "Votre Prenom svpPaule\n",
            "Votre nom svpYANCLO\n",
            "Votre pays d'origine svpBenin\n",
            "votre age svp25\n"
          ]
        }
      ],
      "source": [
        "prenom = input(\"Votre Prenom svp\")\n",
        "nom =input(\"Votre nom svp\")\n",
        "pays_origine = input(\"Votre pays d'origine svp\")\n",
        "age = input(\"votre age svp\")"
      ],
      "id": "0a2694a9"
    },
    {
      "cell_type": "markdown",
      "metadata": {
        "id": "33240a56"
      },
      "source": [
        "**Exercice 16:** \n",
        "\n",
        "**Déclarer $5$ comme `num_one` et $4$ comme `num_two`**\n",
        "\n",
        "   1. Additionner `num_one` et `num_two` et affecter la valeur à une variable `totale`.\n",
        "   2. Soustraire `num_two` de `num_one` et affecter la valeur à une variable `diff`.\n",
        "   3. Multipliez le `num_one` et le `num_two` et attribuez la valeur à une variable `produit`.\n",
        "   4. Divisez le `num_one` par le `num_two` et attribuez la valeur à une variable `division`.\n",
        "   5. Calculez `num_one` à la puissance de `num_two` et attribuez la valeur à une variable `exp`."
      ],
      "id": "33240a56"
    },
    {
      "cell_type": "code",
      "execution_count": null,
      "metadata": {
        "id": "c2f3e814"
      },
      "outputs": [],
      "source": [
        "num_one = 5\n",
        "num_two= 4\n",
        "total = num_one + num_two\n",
        "num_one -= num_two\n",
        "produit = num_one * num_two\n",
        "division = num_one / num_two\n",
        "exp = pow(num_one,num_two)"
      ],
      "id": "c2f3e814"
    },
    {
      "cell_type": "markdown",
      "metadata": {
        "id": "80763237"
      },
      "source": [
        "<center> <b> <span style=\"color:orange;\"> 🎉 FÉLICITATIONS! 🎉 </span> </b></center>"
      ],
      "id": "80763237"
    }
  ],
  "metadata": {
    "colab": {
      "collapsed_sections": [],
      "name": "In2Py_TP_01.ipynb",
      "provenance": [],
      "include_colab_link": true
    },
    "kernelspec": {
      "display_name": "Python 3",
      "language": "python",
      "name": "python3"
    },
    "language_info": {
      "codemirror_mode": {
        "name": "ipython",
        "version": 3
      },
      "file_extension": ".py",
      "mimetype": "text/x-python",
      "name": "python",
      "nbconvert_exporter": "python",
      "pygments_lexer": "ipython3",
      "version": "3.8.10"
    }
  },
  "nbformat": 4,
  "nbformat_minor": 5
}