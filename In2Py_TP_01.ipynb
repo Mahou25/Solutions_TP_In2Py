{
  "cells": [
    {
      "cell_type": "markdown",
      "metadata": {
        "id": "view-in-github",
        "colab_type": "text"
      },
      "source": [
        "<a href=\"https://colab.research.google.com/github/Mahou25/Solutions_TP_In2Py/blob/main/In2Py_TP_01.ipynb\" target=\"_parent\"><img src=\"https://colab.research.google.com/assets/colab-badge.svg\" alt=\"Open In Colab\"/></a>"
      ]
    },
    {
      "cell_type": "markdown",
      "metadata": {
        "id": "22f02e1a"
      },
      "source": [
        "\n",
        "### <center> <b> <span style=\"color:blue;\"> Travaux Pratiques: Variables, Types & Opérations </span> </b></center>"
      ],
      "id": "22f02e1a"
    },
    {
      "cell_type": "markdown",
      "metadata": {
        "id": "ddc667e7"
      },
      "source": [
        "**Exercise 00:**  \n",
        ">\n",
        "\n",
        "  \n",
        "> 1. Déclarez une variable `prenom` et attribuez-lui une valeur.\n",
        "  > 2. Déclarez une variable `nom` et attribuez-lui une valeur.\n",
        "  > 3. Déclarez une variable `prenom_nom` et attribuez-lui une valeur.\n",
        "  > 4. Déclarez une variable `pays` et attribuez-lui une valeur.\n",
        "  > 5. Déclarez une variable `ville` et attribuez-lui une valeur.\n",
        "  > 6. Déclarez une variable `age` et attribuez-lui une valeur.\n",
        "  > 7. Déclarez une variable `annee` et attribuez-lui une valeur.\n",
        "  > 8. Déclarez une variable `est_marie` et attribuez-lui une valeur.\n",
        "  > 9. Déclarez une variable `est_vrai` et attribuez-lui une valeur.\n",
        "\n",
        "> Pour chacune des variables ci-dessus, affichez la valeur qu'elle contient à l'aide de la fonction `print()`.\n",
        "\n"
      ],
      "id": "ddc667e7"
    },
    {
      "cell_type": "code",
      "execution_count": null,
      "metadata": {
        "id": "ebd3951d"
      },
      "outputs": [],
      "source": [
        "prenom = \"Paule\"\n",
        "nom = \"YANCLO\"\n",
        "prenom_nom = \"YANCLO Paule\"\n",
        "pays = \"Benin\"\n",
        "ville = \"Dangbo\"\n",
        "age = 18\n",
        "annee = 2022\n",
        "est_marie = False\n",
        "est_vrai = True\n"
      ],
      "id": "ebd3951d"
    },
    {
      "cell_type": "markdown",
      "metadata": {
        "id": "85eb4f96"
      },
      "source": [
        "**Exercise 01:** \n",
        "> Vérifiez le type de données de toutes vos variables à l'aide de la fonction intégrée `type()`.**\n"
      ],
      "id": "85eb4f96"
    },
    {
      "cell_type": "code",
      "execution_count": null,
      "metadata": {
        "id": "c5c47124",
        "outputId": "9e567168-2eee-4ce9-96ac-6bdc2dca2f2d",
        "colab": {
          "base_uri": "https://localhost:8080/"
        }
      },
      "outputs": [
        {
          "output_type": "stream",
          "name": "stdout",
          "text": [
            "<class 'str'>\n",
            "<class 'str'>\n",
            "<class 'str'>\n",
            "<class 'str'>\n",
            "<class 'int'>\n",
            "<class 'int'>\n",
            "<class 'bool'>\n",
            "<class 'bool'>\n"
          ]
        }
      ],
      "source": [
        "prenom = \"Paule\"\n",
        "nom = \"YANCLO\"\n",
        "prenom_nom = \"YANCLO Paule\"\n",
        "pays = \"Benin\"\n",
        "ville = \"Dangbo\"\n",
        "age = 18\n",
        "annee = 2022\n",
        "est_marie = False\n",
        "est_vrai = True\n",
        "\n",
        "print(type(prenom)) \n",
        "print(type(nom)) \n",
        "print(type(prenom_nom)) \n",
        "print(type(ville)) \n",
        "print(type(age))\n",
        "print(type (annee))\n",
        "print(type(est_marie))\n",
        "print(type(est_vrai))\n"
      ],
      "id": "c5c47124"
    },
    {
      "cell_type": "markdown",
      "metadata": {
        "id": "76cdc19b"
      },
      "source": [
        "**Exercise 02:** \n",
        "> Calculez la valeur de $y$ ($y = x^2 + 6x + 9$). Essayez d'utiliser différentes valeurs de $x$ et déterminez à quelle valeur de $x$ $y$ sera égal à 0.**"
      ],
      "id": "76cdc19b"
    },
    {
      "cell_type": "code",
      "execution_count": null,
      "metadata": {
        "id": "fb4df11a",
        "outputId": "df94b6a0-75ff-443e-f38c-cf8b6b675d2e",
        "colab": {
          "base_uri": "https://localhost:8080/"
        }
      },
      "outputs": [
        {
          "output_type": "stream",
          "name": "stdout",
          "text": [
            "-7.16227766016838\n",
            "ou bien\n",
            "-0.8377223398316205\n"
          ]
        }
      ],
      "source": [
        "import math\n",
        "def resoudreequation(a,b,c):\n",
        "  D=pow(b,2)-(4*a*c)\n",
        "  if (D>0):\n",
        "    x =(-b-(math.sqrt(D)))/(2*a)\n",
        "    print(x)\n",
        "    print(\"ou bien\")\n",
        "    x=(-b+(math.sqrt(D)))/(2*a)\n",
        "    print(x)\n",
        "  elif (D==0):\n",
        "    x = -b/(2*a)\n",
        "    print(x)\n",
        "  elif (D<0):\n",
        "    print(\"x n'est pas reel\")  \n",
        "\n",
        "resoudreequation(1,8,6)    \n",
        "\n"
      ],
      "id": "fb4df11a"
    },
    {
      "cell_type": "markdown",
      "metadata": {
        "id": "8f40e3ab"
      },
      "source": [
        "**Exercise 03:** \n",
        ">    \n",
        "\n",
        "     1. Déclarez votre âge sous forme de variable entière\n",
        "     2. Déclarez votre taille en tant que variable flottante\n",
        "     3. Déclarez une variable qui stocke la base et la hauteur d'un triangle. Calculez l'aire de ce triangle (aire = 0,5 x b x h)."
      ],
      "id": "8f40e3ab"
    },
    {
      "cell_type": "code",
      "execution_count": null,
      "metadata": {
        "id": "rpAlhgG_9A5z"
      },
      "outputs": [],
      "source": [
        "age = 45\n",
        "taille = 25,4\n",
        "base = 90\n",
        "hauteur = 45\n",
        "aire = base * hauteur* 0,5"
      ],
      "id": "rpAlhgG_9A5z"
    },
    {
      "cell_type": "markdown",
      "metadata": {
        "id": "9957391d"
      },
      "source": [
        "## *Astuce : recevoir les entrées de l'utilisateur *\n",
        "**Pour recevoir une entrée de l'utilisateur, nous utilisons `input()`.**.\n",
        "\n",
        "**Exemple**\n",
        "Recevez deux nombres en entrée de l'utilisateur et calculez leur puissance :\n",
        "```python\n",
        "base = input(\"Entrez une base : \")\n",
        "exposant = input(\"Entrez un exposant : \")\n",
        "resultat = float(base) ** float(exposant)\n",
        "print(f \"{base} à la puissance {exposant} = {résultat}\")\n",
        "```"
      ],
      "id": "9957391d"
    },
    {
      "cell_type": "markdown",
      "metadata": {
        "id": "0fb34716"
      },
      "source": [
        "**Exercise 04:** \n",
        "> **Write a small code that asks the user to enter the side $a$, the side $b$ and the side $c$ of a triangle. Calculate the perimeter of the triangle (perimeter = a + b + c).**"
      ],
      "id": "0fb34716"
    },
    {
      "cell_type": "code",
      "execution_count": 1,
      "metadata": {
        "id": "6618f067",
        "outputId": "dac2e2c8-4798-4a2e-bfe9-0eef7821abfd",
        "colab": {
          "base_uri": "https://localhost:8080/"
        }
      },
      "outputs": [
        {
          "output_type": "stream",
          "name": "stdout",
          "text": [
            "le cote a 5\n",
            "le cote b 4\n",
            "le cote c 8\n",
            "17.0\n"
          ]
        }
      ],
      "source": [
        "a = input(\"le cote a\" )\n",
        "b = input(\"le cote b \")\n",
        "c = input(\"le cote c \")\n",
        "perimeter = float(a)+float(b)+float(c)\n",
        "#print(perimeter)\n"
      ],
      "id": "6618f067"
    },
    {
      "cell_type": "markdown",
      "metadata": {
        "id": "e482c15c"
      },
      "source": [
        "**Exercise 05:** \n",
        "> **Obtenez la longueur et la largeur d'un rectangle à l'aide de l'invite. Calculer sa `superficie` et son `perimetre`.**"
      ],
      "id": "e482c15c"
    },
    {
      "cell_type": "code",
      "execution_count": 10,
      "metadata": {
        "id": "286cec4c",
        "outputId": "e8d7d042-0d88-458e-8204-e658477c4235",
        "colab": {
          "base_uri": "https://localhost:8080/"
        }
      },
      "outputs": [
        {
          "output_type": "stream",
          "name": "stdout",
          "text": [
            "La longueur du rectangle9\n",
            "La largeur du rectangle5\n",
            "le perimetre est 28.0 et l'aire est 45.0\n"
          ]
        }
      ],
      "source": [
        "L = float(input(\"La longueur du rectangle\"))\n",
        "l = float(input(\"La largeur du rectangle\"))\n",
        "aire = L*l\n",
        "perimetre = (L+l)*2\n",
        "print(\"le perimetre est {} et l'aire est {}\".format(perimetre,aire))"
      ],
      "id": "286cec4c"
    },
    {
      "cell_type": "markdown",
      "metadata": {
        "id": "cf15844c"
      },
      "source": [
        "**Exercice 06:** \n",
        "> **Obtenez le rayon d'un cercle en utilisant l'invite. Calculez l'aire (aire = pi x r x r) et la circonférence (c = 2 x pi x r) où pi = 3,14.**"
      ],
      "id": "cf15844c"
    },
    {
      "cell_type": "code",
      "execution_count": 13,
      "metadata": {
        "id": "ee0ee85e",
        "outputId": "701c3b4b-8ec8-43a3-d838-7702635dc5e5",
        "colab": {
          "base_uri": "https://localhost:8080/"
        }
      },
      "outputs": [
        {
          "output_type": "stream",
          "name": "stdout",
          "text": [
            "Entrez le rayon : 5\n",
            " L'aire d'un cercle est  78.53981633974483\n",
            " La circonference d'un cercle est :  31.41592653589793\n"
          ]
        }
      ],
      "source": [
        "import math\n",
        "rayon = int(input(\"Entrez le rayon : \"))\n",
        "\n",
        "aire = math.pi * rayon * rayon;\n",
        "\n",
        "circ = 2 * math.pi * rayon;\n",
        "\n",
        "print(\" L'aire d'un cercle est \" , aire )\n",
        "\n",
        "print(\" La circonference d'un cercle est : \", circ)\n",
        "\n"
      ],
      "id": "ee0ee85e"
    },
    {
      "cell_type": "markdown",
      "metadata": {
        "id": "d9dec37a"
      },
      "source": [
        "**Exercice 07:**\n",
        "> **Calculez la pente, l'ordonnée à l'origine en x et l'ordonnée à l'origine en $y$ de $y = 2x -2$.**"
      ],
      "id": "d9dec37a"
    },
    {
      "cell_type": "code",
      "execution_count": null,
      "metadata": {
        "id": "203e449c"
      },
      "outputs": [],
      "source": [
        ""
      ],
      "id": "203e449c"
    },
    {
      "cell_type": "markdown",
      "metadata": {
        "id": "2f74d685"
      },
      "source": [
        "**Exercice 08:** \n",
        "> **Rédigez un script qui demande à l'utilisateur d'entrer les heures et le taux horaire. Calculez la rémunération de la personne ?**"
      ],
      "id": "2f74d685"
    },
    {
      "cell_type": "code",
      "execution_count": null,
      "metadata": {
        "id": "7cff5a0a"
      },
      "outputs": [],
      "source": [
        ""
      ],
      "id": "7cff5a0a"
    },
    {
      "cell_type": "markdown",
      "metadata": {
        "id": "6ddd662c"
      },
      "source": [
        "**Exercice 09:** \n",
        "> **Écrivez un script qui demande à l'utilisateur d'entrer le nombre d'années. Calculez le nombre de secondes qu'une personne peut vivre. Supposons qu'une personne puisse vivre cent ans.**"
      ],
      "id": "6ddd662c"
    },
    {
      "cell_type": "code",
      "execution_count": 14,
      "metadata": {
        "id": "44c2a63c",
        "outputId": "30516ef6-a701-44e5-daef-a74fd6768a21",
        "colab": {
          "base_uri": "https://localhost:8080/"
        }
      },
      "outputs": [
        {
          "output_type": "stream",
          "name": "stdout",
          "text": [
            "entrer un nombre d'annee100\n",
            "3153600000\n"
          ]
        }
      ],
      "source": [
        "annee = int(input(\"entrer un nombre d'annee\"))\n",
        "seconde  = 86400*365*annee\n",
        "print(seconde)"
      ],
      "id": "44c2a63c"
    },
    {
      "cell_type": "markdown",
      "metadata": {
        "id": "9b253387"
      },
      "source": [
        "**Exercice 10:** \n",
        "> **Écrivez un script Python qui affiche le tableau suivant**\n",
        "\n",
        "    1 1 1 1 1\n",
        "    \n",
        "    2 1 2 4 8\n",
        "    \n",
        "    3 1 3 9 27\n",
        "    \n",
        "    4 1 4 16 64\n",
        "    \n",
        "    5 1 5 25 125"
      ],
      "id": "9b253387"
    },
    {
      "cell_type": "code",
      "source": [
        "import numpy as np\n",
        "tab = np.array([2,1,2,4,8])\n",
        "for i in range(0,5):\n",
        "  print(tab[i])"
      ],
      "metadata": {
        "id": "aa2dae84",
        "outputId": "0b489ee9-a0e5-4858-85ab-55252e1ef144",
        "colab": {
          "base_uri": "https://localhost:8080/"
        }
      },
      "id": "aa2dae84",
      "execution_count": 19,
      "outputs": [
        {
          "output_type": "stream",
          "name": "stdout",
          "text": [
            "2\n",
            "1\n",
            "2\n",
            "4\n",
            "8\n"
          ]
        }
      ]
    },
    {
      "cell_type": "markdown",
      "metadata": {
        "id": "953e7d8c"
      },
      "source": [
        "**Exercise 11:** \n",
        ">**Attribuez aux variables `temps` et `distance` les valeurs $6.892$ et $19.7$. Calculer et afficher la valeur de la vitesse. Améliorer l'affichage en imposant un chiffre après la virgule.**"
      ],
      "id": "953e7d8c"
    },
    {
      "cell_type": "code",
      "execution_count": 12,
      "metadata": {
        "id": "6d787289",
        "outputId": "260bc55d-b955-4e05-9f57-dab3c205e0f6",
        "colab": {
          "base_uri": "https://localhost:8080/"
        }
      },
      "outputs": [
        {
          "output_type": "stream",
          "name": "stdout",
          "text": [
            "vitesse = 2.8583865351131745\n",
            "-----------------------\n",
            "\n",
            " vitesse = 2.9 m/s\n"
          ]
        }
      ],
      "source": [
        "temps = 6.892\n",
        "distance = 19.7\n",
        "vitesse = distance/temps\n",
        "print(\"vitesse =\", vitesse)\n",
        "\n",
        "print(\"{}\".format(\"-\"*23))\n",
        "print(\"\\n vitesse = {:.1f} m/s\".format(vitesse))"
      ],
      "id": "6d787289"
    },
    {
      "cell_type": "markdown",
      "metadata": {
        "id": "2d0f1ff9"
      },
      "source": [
        "**Exercice 12:** \n",
        "> **Écrire un programme qui, à partir de la saisie d’un rayon et d’une hauteur, calcule levolume d’un cône droit.**"
      ],
      "id": "2d0f1ff9"
    },
    {
      "cell_type": "code",
      "execution_count": 6,
      "metadata": {
        "id": "969f5f68",
        "outputId": "9bdd8abe-afbd-411f-b1fb-d27fe5d04b90",
        "colab": {
          "base_uri": "https://localhost:8080/"
        }
      },
      "outputs": [
        {
          "output_type": "stream",
          "name": "stdout",
          "text": [
            "Rayon du cone (m) : 5\n",
            "Hauteur du cone (m) : 4\n",
            "Volume du cone = 104.71975511965978 m3\n"
          ]
        }
      ],
      "source": [
        "from math import pi\n",
        "\n",
        "rayon = float(input(\"Rayon du cone (m) : \"))\n",
        "hauteur = float(input(\"Hauteur du cone (m) : \"))\n",
        "volume = (pi*rayon*rayon*hauteur)/3.0\n",
        "print(\"Volume du cone = {} m3\".format(volume))"
      ],
      "id": "969f5f68"
    },
    {
      "cell_type": "markdown",
      "metadata": {
        "id": "e9b3ce2a"
      },
      "source": [
        "**Exercise 13:** \n",
        "> **L'utilisateur donne un entier positif et le programme annonce combien de fois de suite cet entier est divisible par 2.**"
      ],
      "id": "e9b3ce2a"
    },
    {
      "cell_type": "code",
      "execution_count": 7,
      "metadata": {
        "id": "5c8fea9a",
        "outputId": "d2f7bf3e-4d4b-42d0-9f05-6cf96a23e85f",
        "colab": {
          "base_uri": "https://localhost:8080/"
        }
      },
      "outputs": [
        {
          "output_type": "stream",
          "name": "stdout",
          "text": [
            "Entrez un entier strictement positif : 5\n",
            "5 est 0 fois divisible par 2.\n"
          ]
        }
      ],
      "source": [
        "n = int(input(\"Entrez un entier strictement positif : \"))\n",
        "while n < 1:\n",
        "  n = int(input(\"Entrez un entier STRICTEMENT POSITIF, s.v.p. : \"))\n",
        "save = n\n",
        "cpt = 0\n",
        "while n%2 == 0:\n",
        "  n /= 2\n",
        "  cpt += 1\n",
        "print(\"{} est {} fois divisible par 2.\".format(save, cpt))   "
      ],
      "id": "5c8fea9a"
    },
    {
      "cell_type": "markdown",
      "metadata": {
        "id": "0485aed6"
      },
      "source": [
        "**Exercise 14:** \n",
        ">**L'utilisateur donne un nombre entier entre 2 et 12, le programme donne le nombre de façons de le faire en lançant deux dés.**"
      ],
      "id": "0485aed6"
    },
    {
      "cell_type": "code",
      "execution_count": 4,
      "metadata": {
        "id": "31f48a15",
        "outputId": "d617a455-1290-4fa6-dfa1-af6c9c96f1fc",
        "colab": {
          "base_uri": "https://localhost:8080/"
        }
      },
      "outputs": [
        {
          "output_type": "stream",
          "name": "stdout",
          "text": [
            "Entrez un entier [2 .. 12] : 5\n",
            "Il y a 4 facon(s) de faire 5 avec deux des.\n"
          ]
        }
      ],
      "source": [
        "n = int(input(\"Entrez un entier [2 .. 12] : \"))\n",
        "while not(2 <= n <= 12):\n",
        "  n = int(input(\"Entrez un entier [2 .. 12], s.v.p. : \"))\n",
        "\n",
        "s = 0\n",
        "for i in range(1, 7):\n",
        "  for j in range(1, 7):\n",
        "    if i+j == n:\n",
        "      s += 1\n",
        "print(\"Il y a {} facon(s) de faire {} avec deux des.\".format(s, n))"
      ],
      "id": "31f48a15"
    },
    {
      "cell_type": "markdown",
      "metadata": {
        "id": "cead0c8f"
      },
      "source": [
        "**Exercice 15:** \n",
        "> **Utilisez la fonction d'entrée intégrée `input()` pour obtenir le `_prénom_`, le `_nom_`, le `_pays_d_origine` et l'`_age_` d'un utilisateur et stockez la valeur dans les noms des variables correspondantes.**"
      ],
      "id": "cead0c8f"
    },
    {
      "cell_type": "code",
      "execution_count": null,
      "metadata": {
        "id": "0a2694a9",
        "outputId": "5bcb21b3-949a-436e-f470-5bb0c30df098",
        "colab": {
          "base_uri": "https://localhost:8080/"
        }
      },
      "outputs": [
        {
          "name": "stdout",
          "output_type": "stream",
          "text": [
            "Votre Prenom svpPaule\n",
            "Votre nom svpYANCLO\n",
            "Votre pays d'origine svpBenin\n",
            "votre age svp25\n"
          ]
        }
      ],
      "source": [
        "prenom = input(\"Votre Prenom svp\")\n",
        "nom =input(\"Votre nom svp\")\n",
        "pays_origine = input(\"Votre pays d'origine svp\")\n",
        "age = input(\"votre age svp\")"
      ],
      "id": "0a2694a9"
    },
    {
      "cell_type": "markdown",
      "metadata": {
        "id": "33240a56"
      },
      "source": [
        "**Exercice 16:** \n",
        "\n",
        "**Déclarer $5$ comme `num_one` et $4$ comme `num_two`**\n",
        "\n",
        "   1. Additionner `num_one` et `num_two` et affecter la valeur à une variable `totale`.\n",
        "   2. Soustraire `num_two` de `num_one` et affecter la valeur à une variable `diff`.\n",
        "   3. Multipliez le `num_one` et le `num_two` et attribuez la valeur à une variable `produit`.\n",
        "   4. Divisez le `num_one` par le `num_two` et attribuez la valeur à une variable `division`.\n",
        "   5. Calculez `num_one` à la puissance de `num_two` et attribuez la valeur à une variable `exp`."
      ],
      "id": "33240a56"
    },
    {
      "cell_type": "code",
      "execution_count": null,
      "metadata": {
        "id": "c2f3e814"
      },
      "outputs": [],
      "source": [
        "num_one = 5\n",
        "num_two= 4\n",
        "total = num_one + num_two\n",
        "num_one -= num_two\n",
        "produit = num_one * num_two\n",
        "division = num_one / num_two\n",
        "exp = pow(num_one,num_two)"
      ],
      "id": "c2f3e814"
    },
    {
      "cell_type": "markdown",
      "metadata": {
        "id": "80763237"
      },
      "source": [
        "<center> <b> <span style=\"color:orange;\"> 🎉 FÉLICITATIONS! 🎉 </span> </b></center>"
      ],
      "id": "80763237"
    }
  ],
  "metadata": {
    "colab": {
      "collapsed_sections": [],
      "name": "In2Py_TP_01.ipynb",
      "provenance": [],
      "include_colab_link": true
    },
    "kernelspec": {
      "display_name": "Python 3",
      "language": "python",
      "name": "python3"
    },
    "language_info": {
      "codemirror_mode": {
        "name": "ipython",
        "version": 3
      },
      "file_extension": ".py",
      "mimetype": "text/x-python",
      "name": "python",
      "nbconvert_exporter": "python",
      "pygments_lexer": "ipython3",
      "version": "3.8.10"
    }
  },
  "nbformat": 4,
  "nbformat_minor": 5
}