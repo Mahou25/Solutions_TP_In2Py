{
 "cells": [
  {
   "cell_type": "markdown",
   "id": "b3213b37",
   "metadata": {},
   "source": [
    "1. Compute the following expressions for a natural number n chosen by the user: \n",
    "n-1 (i) (i+3). \n",
    "i=0 i is odd \n",
    "n-1 (ii) TT (+3). \n",
    "i=0 \n",
    "i is even \n"
   ]
  },
  {
   "cell_type": "code",
   "execution_count": 3,
   "id": "dc83fa84",
   "metadata": {},
   "outputs": [
    {
     "name": "stdout",
     "output_type": "stream",
     "text": [
      "entrer un nombre4\n",
      "12\n"
     ]
    }
   ],
   "source": [
    "n=int(input(\"entrer un nombre\"))\n",
    "p=0\n",
    "if(n%2==0):\n",
    "    for i in range (n-1):\n",
    "        p +=(i+3) \n",
    "elif(n%2!=0):\n",
    "    for i in range (n-1):\n",
    "        p *= (i+3)\n",
    "print (p)"
   ]
  },
  {
   "cell_type": "markdown",
   "id": "c1af7e32",
   "metadata": {},
   "source": [
    "2. Write a program that reads the number of the day of the week (from 0 to 6). If it is a \n",
    "working day, then the program will write the name of the corresponding day. Otherwise, it will write the word \"Weekend\". \n"
   ]
  },
  {
   "cell_type": "code",
   "execution_count": 15,
   "id": "f03ba0fb",
   "metadata": {},
   "outputs": [
    {
     "name": "stdout",
     "output_type": "stream",
     "text": [
      "Entrer un nombre entre 0 et 61\n",
      "Mardi\n"
     ]
    }
   ],
   "source": [
    "day = list([\"Lundi\",\"Mardi\",\"Mercredi\",\"Jeudi\",\"Vendredi\",\"Samedi\",\"Dimanche\"])\n",
    "n = int(input(\"Entrer un nombre entre 0 et 6\"))\n",
    "if(n==6 or n==5):\n",
    "    print(\"Weekend\")\n",
    "elif (n==0 or n==1 or n==2 or n==3 or n==4):\n",
    "    print(day[n])"
   ]
  },
  {
   "cell_type": "markdown",
   "id": "17ec8397",
   "metadata": {},
   "source": [
    "3. Make a program that, given a month number (from 0 to 11), indicates how many days it \n",
    "has (28, 30 or 31), ignoring the leap years. "
   ]
  },
  {
   "cell_type": "code",
   "execution_count": 6,
   "id": "df8fdffc",
   "metadata": {},
   "outputs": [
    {
     "name": "stdout",
     "output_type": "stream",
     "text": [
      "entrer un nombre entre 0 et 114\n",
      "31\n"
     ]
    }
   ],
   "source": [
    "month = [31,28,31,30,31,30,31,31,30,31,30,31]\n",
    "n = int(input(\"entrer un nombre entre 0 et 11\"))\n",
    "print(month[n])"
   ]
  },
  {
   "cell_type": "markdown",
   "id": "9686ecb9",
   "metadata": {},
   "source": [
    "4. Write two versions of python code that displays your name 3 times. One version with a \n",
    "\"for loop\" and another version with a \"while loop\". \n"
   ]
  },
  {
   "cell_type": "code",
   "execution_count": 4,
   "id": "f0bb66a1",
   "metadata": {},
   "outputs": [
    {
     "name": "stdout",
     "output_type": "stream",
     "text": [
      "TOTO\n",
      "TOTO\n",
      "TOTO\n"
     ]
    }
   ],
   "source": [
    "for i in range (3):\n",
    "    print(\"TOTO\")"
   ]
  },
  {
   "cell_type": "code",
   "execution_count": 5,
   "id": "8296bfa4",
   "metadata": {},
   "outputs": [
    {
     "name": "stdout",
     "output_type": "stream",
     "text": [
      "TOTO\n",
      "TOTO\n",
      "TOTO\n"
     ]
    }
   ],
   "source": [
    "i=0\n",
    "while i<3:\n",
    "    print(\"TOTO\")\n",
    "    i+=1"
   ]
  },
  {
   "cell_type": "markdown",
   "id": "5c68912c",
   "metadata": {},
   "source": [
    "5. Given two numbers ao and ai, the Fibonacci sequence they generate is constructed from \n",
    "the recursion formula an+1 = An + an-1. Calculate the first 15 terms of a Fibonacci sequence, asking the user the initial values. \n"
   ]
  },
  {
   "cell_type": "code",
   "execution_count": 5,
   "id": "9c4bdfb6",
   "metadata": {},
   "outputs": [
    {
     "name": "stdout",
     "output_type": "stream",
     "text": [
      "Fibonacci sequence:\n",
      "0\n",
      "1\n",
      "1\n",
      "2\n",
      "3\n",
      "5\n",
      "8\n",
      "13\n",
      "21\n",
      "34\n",
      "55\n",
      "89\n",
      "144\n",
      "233\n",
      "377\n"
     ]
    }
   ],
   "source": [
    "def recur_fibo(n):\n",
    "    if n <= 1:\n",
    "        return n\n",
    "    else:\n",
    "        return(recur_fibo(n-1) + recur_fibo(n-2))\n",
    "\n",
    "nterms = 15\n",
    "\n",
    "# check if the number of terms is valid\n",
    "if nterms <= 0:\n",
    "    print(\"Plese enter a positive integer\")\n",
    "else:\n",
    "    print(\"Fibonacci sequence:\")\n",
    "    for i in range(nterms):\n",
    "        print(recur_fibo(i))"
   ]
  },
  {
   "cell_type": "markdown",
   "id": "becd9f75",
   "metadata": {},
   "source": [
    "7. \n",
    "a) Write python code to determine whether or not a year is a leap year. Be sure you \n",
    "know what a leap year is. b) Write the code using only logical operators, i.e. no conditional branching. \n"
   ]
  },
  {
   "cell_type": "code",
   "execution_count": 6,
   "id": "f0414b3f",
   "metadata": {},
   "outputs": [
    {
     "name": "stdout",
     "output_type": "stream",
     "text": [
      "Entrez l annee a verifier:199999\n",
      "L'annee n'est pas une annee bissextile!\n"
     ]
    }
   ],
   "source": [
    "annee = int(input(\"Entrez l annee a verifier:\"))\n",
    "if(annee%4==0 and annee%100!=0 or annee%400==0):\n",
    "    print(\"L'annee est une annee bissextile!\")\n",
    "else:\n",
    "    print(\"L'annee n'est pas une annee bissextile!\")"
   ]
  },
  {
   "cell_type": "markdown",
   "id": "a24a1740",
   "metadata": {},
   "source": [
    "a) Write python code that computes the sum of the square of the first n natural numbers. \n",
    "One version with a \"for loop\" and another version with a \"while loop\". b) Write python code that prints, for a natural number M, the smallest natural number \n",
    "n such that 12 +22+...+n? > M. One version with a \"for loop\" and another version with a \"while loop\". \n"
   ]
  },
  {
   "cell_type": "code",
   "execution_count": 9,
   "id": "2e38d6f6",
   "metadata": {},
   "outputs": [
    {
     "name": "stdout",
     "output_type": "stream",
     "text": [
      "Entrer un nombre10\n",
      "285\n"
     ]
    }
   ],
   "source": [
    "n = int(input(\"Entrer un nombre\"))\n",
    "p=0\n",
    "for i in range (n):\n",
    "    p+=i**2\n",
    "print(p)"
   ]
  },
  {
   "cell_type": "code",
   "execution_count": 12,
   "id": "29699fa6",
   "metadata": {},
   "outputs": [
    {
     "name": "stdout",
     "output_type": "stream",
     "text": [
      "Entrer un nombre10\n",
      "285\n"
     ]
    }
   ],
   "source": [
    "n = int(input(\"Entrer un nombre\"))\n",
    "p=0\n",
    "i=0\n",
    "while i < n:\n",
    "    p+=i**2\n",
    "    i+=1\n",
    "print(p)"
   ]
  },
  {
   "cell_type": "markdown",
   "id": "cab3e397",
   "metadata": {},
   "source": [
    "9. \n",
    "a) Write python code that prints all the divisors of a given natural number. b) Read an integer number input by the user and calculate its prime factors. This will \n",
    "just be some of its divisors. \n"
   ]
  },
  {
   "cell_type": "code",
   "execution_count": null,
   "id": "24145251",
   "metadata": {},
   "outputs": [],
   "source": [
    "def getFactors(n):\n",
    "    # Create an empty list for factors\n",
    "    factors=[];\n",
    "\n",
    "    # Loop over all factors\n",
    "    for i in range(1, n + 1):\n",
    "        if n % i == 0:\n",
    "            factors.append(i)\n",
    "\n",
    "    # Return the list of factors\n",
    "    return factors\n",
    "\n",
    "# Call the function with a given value\n",
    "print (getFactors(256))"
   ]
  }
 ],
 "metadata": {
  "kernelspec": {
   "display_name": "Python 3 (ipykernel)",
   "language": "python",
   "name": "python3"
  },
  "language_info": {
   "codemirror_mode": {
    "name": "ipython",
    "version": 3
   },
   "file_extension": ".py",
   "mimetype": "text/x-python",
   "name": "python",
   "nbconvert_exporter": "python",
   "pygments_lexer": "ipython3",
   "version": "3.8.10"
  }
 },
 "nbformat": 4,
 "nbformat_minor": 5
}
