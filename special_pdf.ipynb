{
 "cells": [
  {
   "cell_type": "markdown",
   "id": "b3213b37",
   "metadata": {},
   "source": [
    "Exercice 1\n"
   ]
  },
  {
   "cell_type": "code",
   "execution_count": 1,
   "id": "dc83fa84",
   "metadata": {},
   "outputs": [
    {
     "name": "stdout",
     "output_type": "stream",
     "text": [
      "Enter a whole number : 4\n",
      "Somme : 10\n",
      "Produit  15\n"
     ]
    }
   ],
   "source": [
    "n = int(input(\"Enter a whole number : \"))\n",
    "if(n > 0):\n",
    "    somme = 0\n",
    "    produit = 1\n",
    "    for i in range(0, n):\n",
    "        if(i%2 != 0):\n",
    "            somme += i+3\n",
    "        else:\n",
    "            produit *= i+3\n",
    "    print(\"Somme :\", somme)\n",
    "    print(\"Produit \", produit)\n",
    "else:\n",
    "    print(\"Invalid input !\")"
   ]
  },
  {
   "cell_type": "markdown",
   "id": "c1af7e32",
   "metadata": {},
   "source": [
    "Exercice 2"
   ]
  },
  {
   "cell_type": "code",
   "execution_count": 2,
   "id": "f03ba0fb",
   "metadata": {},
   "outputs": [
    {
     "name": "stdout",
     "output_type": "stream",
     "text": [
      "Enter a number of the day of the week : 5\n",
      "Weekend\n"
     ]
    }
   ],
   "source": [
    "n = int(input(\"Enter a number of the day of the week : \"))\n",
    "jour = ['Lundi', 'Mardi', 'Mercredi', 'Jeudi', 'Vendredi', 'Weekend']\n",
    "if(n >= 0 and n <= 6):\n",
    "    if(n >= 0 and n <= 4):\n",
    "        print(jour[n])\n",
    "    else:\n",
    "        print(jour[5])\n",
    "else:\n",
    "    print(\"Invalid input !\")"
   ]
  },
  {
   "cell_type": "markdown",
   "id": "17ec8397",
   "metadata": {},
   "source": [
    "Exercice 3"
   ]
  },
  {
   "cell_type": "code",
   "execution_count": 5,
   "id": "df8fdffc",
   "metadata": {},
   "outputs": [
    {
     "name": "stdout",
     "output_type": "stream",
     "text": [
      "Enter a month number : 7\n",
      "30 days !\n"
     ]
    }
   ],
   "source": [
    "n = int(input(\"Enter a month number : \"))\n",
    "jour = ['Lundi', 'Mardi', 'Mercredi', 'Jeudi', 'Vendredi', 'Weekend']\n",
    "if(n >= 0 and n <= 11):\n",
    "    if(n%2 == 0):\n",
    "        print(\"31 days !\")\n",
    "    else:\n",
    "        if(n == 1):\n",
    "            print(\"28 days !\")\n",
    "        else:\n",
    "            print(\"30 days !\")\n",
    "else:\n",
    "    print(\"Invalid input !\")\n"
   ]
  },
  {
   "cell_type": "markdown",
   "id": "9686ecb9",
   "metadata": {},
   "source": [
    "Exercice 4"
   ]
  },
  {
   "cell_type": "code",
   "execution_count": 4,
   "id": "f0bb66a1",
   "metadata": {},
   "outputs": [
    {
     "name": "stdout",
     "output_type": "stream",
     "text": [
      "TOTO\n",
      "TOTO\n",
      "TOTO\n"
     ]
    }
   ],
   "source": [
    "for i in range (3):\n",
    "    print(\"TOTO\")"
   ]
  },
  {
   "cell_type": "code",
   "execution_count": 5,
   "id": "8296bfa4",
   "metadata": {},
   "outputs": [
    {
     "name": "stdout",
     "output_type": "stream",
     "text": [
      "TOTO\n",
      "TOTO\n",
      "TOTO\n"
     ]
    }
   ],
   "source": [
    "i=0\n",
    "while i<3:\n",
    "    print(\"TOTO\")\n",
    "    i+=1"
   ]
  },
  {
   "cell_type": "markdown",
   "id": "9b154f27",
   "metadata": {},
   "source": [
    "Exercice 5"
   ]
  },
  {
   "cell_type": "code",
   "execution_count": 4,
   "id": "65fccba8",
   "metadata": {},
   "outputs": [
    {
     "name": "stdout",
     "output_type": "stream",
     "text": [
      "Enter the a0 value : 5\n",
      "Enter the a1 value : 4\n",
      "5\n",
      "4\n",
      "9\n",
      "13\n",
      "22\n",
      "35\n",
      "57\n",
      "92\n",
      "149\n",
      "241\n",
      "390\n",
      "631\n",
      "1021\n",
      "1652\n",
      "2673\n"
     ]
    }
   ],
   "source": [
    "a_0 = int(input(\"Enter the a0 value : \"))\n",
    "a_1 = int(input(\"Enter the a1 value : \"))\n",
    "\n",
    "for i in range(0, 15):\n",
    "    if(i == 0):\n",
    "        print(a_0)\n",
    "    elif(i == 1):\n",
    "        print(a_1)\n",
    "    else:\n",
    "        a_2 = a_0 + a_1\n",
    "        print(a_2)\n",
    "        (a_0, a_1) = (a_1, a_2)"
   ]
  },
  {
   "cell_type": "markdown",
   "id": "980269f1",
   "metadata": {},
   "source": [
    "Exercice 6"
   ]
  },
  {
   "cell_type": "code",
   "execution_count": 6,
   "id": "0c57cdea",
   "metadata": {},
   "outputs": [
    {
     "name": "stdout",
     "output_type": "stream",
     "text": [
      "0.0\n",
      "1.0\n",
      "0.5\n",
      "3.25\n",
      "3.125\n",
      "11.3125\n",
      "15.03125\n",
      "41.453125\n",
      "65.8203125\n",
      "157.26953125\n",
      "276.095703125\n",
      "609.8564453125\n",
      "1133.21533203125\n",
      "2396.177001953125\n",
      "4597.7344970703125\n",
      "9487.398254394531\n",
      "18536.902618408203\n",
      "37730.646072387695\n",
      "74476.03089141846\n",
      "150429.9536628723\n",
      "298643.0695056915\n",
      "600611.3957414627\n",
      "1196234.906387806\n",
      "2399951.640418291\n",
      "4788680.539372563\n",
      "9594195.190941155\n",
      "19163139.213588268\n",
      "38364155.1796176\n",
      "76671495.2305736\n",
      "153428213.15413958\n"
     ]
    }
   ],
   "source": [
    "x_0 = 0.\n",
    "x_1 = 1.\n",
    "\n",
    "print(x_0)\n",
    "print(x_1)\n",
    "for i in range(0, 28):\n",
    "    x_i = (6*x_0 + x_1) / 2\n",
    "    print(x_i)\n",
    "    (x_0, x_1) = (x_1, x_i)"
   ]
  },
  {
   "cell_type": "markdown",
   "id": "01b770da",
   "metadata": {},
   "source": [
    "Exercice 7"
   ]
  },
  {
   "cell_type": "code",
   "execution_count": 6,
   "id": "d9542e4c",
   "metadata": {},
   "outputs": [
    {
     "name": "stdout",
     "output_type": "stream",
     "text": [
      "Entrez l annee a verifier:199999\n",
      "L'annee n'est pas une annee bissextile!\n"
     ]
    }
   ],
   "source": [
    "annee = int(input(\"Entrez l annee a verifier:\"))\n",
    "if(annee%4==0 and annee%100!=0 or annee%400==0):\n",
    "    print(\"L'annee est une annee bissextile!\")\n",
    "else:\n",
    "    print(\"L'annee n'est pas une annee bissextile!\")"
   ]
  },
  {
   "cell_type": "markdown",
   "id": "000a97c4",
   "metadata": {},
   "source": [
    "Exercice 8"
   ]
  },
  {
   "cell_type": "code",
   "execution_count": 9,
   "id": "cf86a7e0",
   "metadata": {},
   "outputs": [
    {
     "name": "stdout",
     "output_type": "stream",
     "text": [
      "Entrer un nombre10\n",
      "285\n"
     ]
    }
   ],
   "source": [
    "n = int(input(\"Enter a natural number : \"))\n",
    "if(n > 0):\n",
    "    somme = 0\n",
    "    for i in range(0, n):\n",
    "        somme += i**2\n",
    "    print(\"Somme :\", somme)\n",
    "elif(n < 0):\n",
    "    print(\"Invalid input !\")\n",
    "else:\n",
    "    print(\"Nothing to do !\")\n"
   ]
  },
  {
   "cell_type": "code",
   "execution_count": 7,
   "id": "73871e3b",
   "metadata": {},
   "outputs": [
    {
     "name": "stdout",
     "output_type": "stream",
     "text": [
      "Enter a natural number : 10\n",
      "Somme : 285\n"
     ]
    }
   ],
   "source": [
    "n = int(input(\"Enter a natural number : \"))\n",
    "if(n > 0):\n",
    "    somme = 0\n",
    "    i = 0\n",
    "    while(i < n):\n",
    "        somme += i**2\n",
    "        i += 1\n",
    "    print(\"Somme :\", somme)\n",
    "elif(n < 0):\n",
    "    print(\"Invalid input !\")\n",
    "else:\n",
    "    print(\"Nothing to do !\")"
   ]
  },
  {
   "cell_type": "code",
   "execution_count": 8,
   "id": "87109fcc",
   "metadata": {},
   "outputs": [
    {
     "name": "stdout",
     "output_type": "stream",
     "text": [
      "Enter a natural number : 15\n",
      "4\n"
     ]
    }
   ],
   "source": [
    "m = int(input(\"Enter a natural number : \"))\n",
    "if(m >= 0):\n",
    "    somme = 0\n",
    "    for i in range(0, m+1):\n",
    "        somme += i**2\n",
    "        if(somme >= m):\n",
    "            print(i)\n",
    "            break\n",
    "else:\n",
    "    print(\"Invalid input !\")"
   ]
  },
  {
   "cell_type": "code",
   "execution_count": 10,
   "id": "2121846e",
   "metadata": {},
   "outputs": [
    {
     "name": "stdout",
     "output_type": "stream",
     "text": [
      "Enter a natural number : 45\n",
      "5\n"
     ]
    }
   ],
   "source": [
    "m = int(input(\"Enter a natural number : \"))\n",
    "if(m >= 0):\n",
    "    somme = 0\n",
    "    i = 0\n",
    "    while(i <= m):\n",
    "        somme += i**2\n",
    "        if(somme >= m):\n",
    "            print(i)\n",
    "            break\n",
    "        i += 1\n",
    "else:\n",
    "    print(\"Invalid input !\")"
   ]
  },
  {
   "cell_type": "markdown",
   "id": "fb323afc",
   "metadata": {},
   "source": [
    "Exercice 9\n"
   ]
  },
  {
   "cell_type": "code",
   "execution_count": 13,
   "id": "3bf0f791",
   "metadata": {},
   "outputs": [
    {
     "name": "stdout",
     "output_type": "stream",
     "text": [
      "[1, 7]\n"
     ]
    }
   ],
   "source": [
    "def getFactors(n):\n",
    "    # Create an empty list for factors\n",
    "    factors=[];\n",
    "\n",
    "    # Loop over all factors\n",
    "    for i in range(1, n + 1):\n",
    "        if n % i == 0:\n",
    "            factors.append(i)\n",
    "\n",
    "    # Return the list of factors\n",
    "    return factors\n",
    "\n",
    "# Call the function with a given value\n",
    "print (getFactors(7))"
   ]
  },
  {
   "cell_type": "code",
   "execution_count": 14,
   "id": "7da12825",
   "metadata": {},
   "outputs": [
    {
     "name": "stdout",
     "output_type": "stream",
     "text": [
      "Enter a natural number : 45\n",
      "3\n",
      "5\n"
     ]
    }
   ],
   "source": [
    "n = int(input(\"Enter a natural number : \"))\n",
    "if(n == 0):\n",
    "    print(\"Every prime number divides\", n)\n",
    "else:\n",
    "    n = abs(n)\n",
    "    i = 2\n",
    "    divisors = []\n",
    "    while(n != 1):\n",
    "        if(n%i == 0):\n",
    "            if(not(i in divisors)):\n",
    "                divisors.append(i)\n",
    "                print(i)\n",
    "            n = n / i\n",
    "            i = 2\n",
    "        else:\n",
    "            i += 1"
   ]
  },
  {
   "cell_type": "markdown",
   "id": "efcd7529",
   "metadata": {},
   "source": [
    "Exercice 10"
   ]
  },
  {
   "cell_type": "code",
   "execution_count": 16,
   "id": "43a0607f",
   "metadata": {},
   "outputs": [
    {
     "name": "stdout",
     "output_type": "stream",
     "text": [
      "Enter a natural number between 0 and 9 : 9\n",
      "Enter another natural number : 40\n",
      "9 x 0 = 0\n",
      "9 x 1 = 9\n",
      "9 x 2 = 18\n",
      "9 x 3 = 27\n",
      "9 x 4 = 36\n",
      "9 x 5 = 45\n",
      "9 x 6 = 54\n",
      "9 x 7 = 63\n",
      "9 x 8 = 72\n",
      "9 x 9 = 81\n",
      "9 x 10 = 90\n",
      "9 x 11 = 99\n",
      "9 x 12 = 108\n",
      "9 x 13 = 117\n",
      "9 x 14 = 126\n",
      "9 x 15 = 135\n",
      "9 x 16 = 144\n",
      "9 x 17 = 153\n",
      "9 x 18 = 162\n",
      "9 x 19 = 171\n",
      "9 x 20 = 180\n",
      "9 x 21 = 189\n",
      "9 x 22 = 198\n",
      "9 x 23 = 207\n",
      "9 x 24 = 216\n",
      "9 x 25 = 225\n",
      "9 x 26 = 234\n",
      "9 x 27 = 243\n",
      "9 x 28 = 252\n",
      "9 x 29 = 261\n",
      "9 x 30 = 270\n",
      "9 x 31 = 279\n",
      "9 x 32 = 288\n",
      "9 x 33 = 297\n",
      "9 x 34 = 306\n",
      "9 x 35 = 315\n",
      "9 x 36 = 324\n",
      "9 x 37 = 333\n",
      "9 x 38 = 342\n",
      "9 x 39 = 351\n",
      "9 x 40 = 360\n"
     ]
    }
   ],
   "source": [
    "n = int(input(\"Enter a natural number between 0 and 9 : \"))\n",
    "N = int(input(\"Enter another natural number : \"))\n",
    "if(N >= 0):\n",
    "    for i in range(0, N+1):\n",
    "        print(n,\"x\",i,\"=\",n*i)\n",
    "else:\n",
    "    print(\"Invalid input !\")"
   ]
  },
  {
   "cell_type": "markdown",
   "id": "925296c3",
   "metadata": {},
   "source": [
    "Exercice 11"
   ]
  },
  {
   "cell_type": "code",
   "execution_count": 17,
   "id": "cca8d80c",
   "metadata": {},
   "outputs": [
    {
     "name": "stdout",
     "output_type": "stream",
     "text": [
      "0\n",
      "3\n",
      "6\n",
      "7\n",
      "9\n",
      "11\n",
      "12\n",
      "14\n",
      "15\n",
      "18\n",
      "21\n",
      "22\n",
      "24\n",
      "27\n",
      "28\n",
      "30\n",
      "33\n",
      "35\n",
      "36\n",
      "39\n"
     ]
    }
   ],
   "source": [
    "for i in range(0, 41):\n",
    "    if(i%3 == 0 or i%7 == 0 or i%11 == 0):\n",
    "        print(i)"
   ]
  },
  {
   "cell_type": "markdown",
   "id": "815a7330",
   "metadata": {},
   "source": [
    "Exercice 12"
   ]
  },
  {
   "cell_type": "code",
   "execution_count": 18,
   "id": "5efcf90a",
   "metadata": {},
   "outputs": [
    {
     "name": "stdout",
     "output_type": "stream",
     "text": [
      "Enter a decimal number : 12.3\n",
      "12\n"
     ]
    }
   ],
   "source": [
    "x = input(\"Enter a decimal number : \")\n",
    "if('.' in x):\n",
    "    ch = x.split(\".\")\n",
    "    x = int(ch[0])\n",
    "    if(x < 0):\n",
    "        print(x-1)\n",
    "    else:\n",
    "        print(x)\n",
    "else:\n",
    "    print(x)"
   ]
  },
  {
   "cell_type": "markdown",
   "id": "a4d6ce32",
   "metadata": {},
   "source": [
    "Exercice 13"
   ]
  },
  {
   "cell_type": "code",
   "execution_count": 19,
   "id": "c9b273b9",
   "metadata": {},
   "outputs": [
    {
     "name": "stdout",
     "output_type": "stream",
     "text": [
      "Abscisse : 14\n",
      "Ordonnee : 15\n",
      "First quadrant.\n",
      "Continuer [y/n] ? y\n",
      "Abscisse : 48\n",
      "Ordonnee : 54\n",
      "First quadrant.\n",
      "Continuer [y/n] ? y\n",
      "Abscisse : -7\n",
      "Ordonnee : -5\n",
      "Third quadrant.\n",
      "Continuer [y/n] ? n\n"
     ]
    }
   ],
   "source": [
    "continuons = True\n",
    "while(continuons):\n",
    "    a = float(input(\"Abscisse : \"))\n",
    "    b = float(input(\"Ordonnee : \"))\n",
    "    if(a == 0 and b == 0):\n",
    "        print(\"Origine.\")\n",
    "    elif(a >= 0 and b >= 0):\n",
    "        print(\"First quadrant.\")\n",
    "    elif(a <= 0 and b >= 0):\n",
    "        print(\"Second quadrant.\")\n",
    "    elif(a <= 0 and b <= 0):\n",
    "        print(\"Third quadrant.\")\n",
    "    elif(a >= 0 and b <= 0):\n",
    "        print(\"Fourth quadrant.\")\n",
    "        \n",
    "    if(str(input(\"Continuer [y/n] ? \")) == \"y\"):\n",
    "        continuons = True\n",
    "    else:\n",
    "        continuons = False"
   ]
  },
  {
   "cell_type": "markdown",
   "id": "c61cc088",
   "metadata": {},
   "source": [
    "Exercice 14"
   ]
  },
  {
   "cell_type": "code",
   "execution_count": 20,
   "id": "88724ae3",
   "metadata": {},
   "outputs": [
    {
     "name": "stdout",
     "output_type": "stream",
     "text": [
      "Enter an integer between 0 and 9 : 5\n",
      "Enter another integer between 0 and 255 : 36\n",
      "0\n",
      "5\n",
      "10\n",
      "15\n",
      "20\n",
      "25\n",
      "30\n",
      "35\n",
      "Continuer [y/n] ? n\n"
     ]
    }
   ],
   "source": [
    "continuons = True\n",
    "while(continuons):\n",
    "    x = int(input(\"Enter an integer between 0 and 9 : \"))\n",
    "    if(x >= 0 and x <= 9):\n",
    "        continuous = True\n",
    "        while(continuous):\n",
    "            _max = int(input(\"Enter another integer between 0 and 255 : \"))\n",
    "            if(_max >= 0 and _max <= 255):\n",
    "                continuous = False\n",
    "                if(x == 0):\n",
    "                    print(\"0 has any multiple.\")\n",
    "                else:\n",
    "                    for i in range(0, _max+1, x):\n",
    "                        print(i)\n",
    "                        \n",
    "    if(str(input(\"Continuer [y/n] ? \")) == \"y\"):\n",
    "        continuons = True\n",
    "    else:\n",
    "        continuons = False"
   ]
  },
  {
   "cell_type": "code",
   "execution_count": null,
   "id": "cf427bed",
   "metadata": {},
   "outputs": [],
   "source": []
  }
 ],
 "metadata": {
  "kernelspec": {
   "display_name": "Python 3 (ipykernel)",
   "language": "python",
   "name": "python3"
  },
  "language_info": {
   "codemirror_mode": {
    "name": "ipython",
    "version": 3
   },
   "file_extension": ".py",
   "mimetype": "text/x-python",
   "name": "python",
   "nbconvert_exporter": "python",
   "pygments_lexer": "ipython3",
   "version": "3.8.10"
  }
 },
 "nbformat": 4,
 "nbformat_minor": 5
}
